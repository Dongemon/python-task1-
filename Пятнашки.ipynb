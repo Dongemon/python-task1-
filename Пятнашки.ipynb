{
 "cells": [
  {
   "cell_type": "code",
   "execution_count": 1,
   "id": "861c75dd",
   "metadata": {},
   "outputs": [],
   "source": [
    "import random\n",
    "\n",
    "\n",
    "win_combination = [\n",
    "                    [1, 2, 3, 4],\n",
    "                    [5, 6, 7, 8],\n",
    "                    [9, 10, 11, 12],\n",
    "                    [13, 14, 15, ' '],\n",
    "                  ]\n",
    "win_combination_line = [1, 2, 3, 4, 5, 6, 7, 8, 9, 10, 11, 12, 13, 14, 15, ' ']\n",
    "\n",
    "\n",
    "possible_moves_mask = [[0, 1], [0, -1], [-1, 0], [1, 0]]\n",
    "\n",
    "#Создание поля-списка\n",
    "def field():\n",
    "    numbers = [1, 2, 3, 4, 5, 6, 7, 8, 9, 10, 11, 12, 13, 14, 15, ' ']\n",
    "    field = []\n",
    "    while numbers == win_combination_line:\n",
    "        random.shuffle(numbers)\n",
    "    for i in range(4):\n",
    "        field.append([])\n",
    "        for j in range(4):\n",
    "            field[i].append(numbers[j + 4 * i])\n",
    "    return field\n",
    "\n",
    "#Вывод поля-списка в консоль\n",
    "def print_field(play_field):\n",
    "    print('-------------')\n",
    "    for i_list in play_field:\n",
    "        print('|', end='')\n",
    "        for j_elem in i_list:\n",
    "            if j_elem == ' ' or j_elem < 10:\n",
    "                print(f'{j_elem} |', end='')\n",
    "            else:\n",
    "                print(f'{j_elem}|', end='')\n",
    "        print('\\n-------------')\n",
    "        \n",
    "\n",
    "            \n",
    "        \n",
    "    "
   ]
  },
  {
   "cell_type": "code",
   "execution_count": 2,
   "id": "53f7e108",
   "metadata": {},
   "outputs": [],
   "source": [
    "#Ищет возможные ходы\n",
    "def func_possible_moves(play_field):\n",
    "    for i in range(4):\n",
    "        for j in range(4):\n",
    "            if play_field[i][j] == ' ':\n",
    "                space_index = [i, j]\n",
    "                break\n",
    "    possible_moves = []\n",
    "    for i_elem in possible_moves_mask:\n",
    "        if 0 <= i_elem[0] + space_index[0] <= 3 and 0 <= i_elem[1] + space_index[1] <= 3:\n",
    "            possible_moves.append([i_elem[0] + space_index[0],i_elem[1] + space_index[1]])\n",
    "    return (possible_moves, space_index)\n",
    "\n",
    "    "
   ]
  },
  {
   "cell_type": "code",
   "execution_count": 3,
   "id": "11af5a9d",
   "metadata": {},
   "outputs": [],
   "source": [
    "#Переводит ход-число в координаты\n",
    "def move_to_list(play_field, move):\n",
    "    for i in range(4):\n",
    "        for j in range(4):\n",
    "            if play_field[i][j] == move:\n",
    "                return [i, j]"
   ]
  },
  {
   "cell_type": "code",
   "execution_count": 4,
   "id": "f7107de4",
   "metadata": {},
   "outputs": [],
   "source": [
    "#ПРоверка на возможность хода\n",
    "def validate_move(possible_moves, list_move):\n",
    "    if list_move in possible_moves:\n",
    "        return True"
   ]
  },
  {
   "cell_type": "code",
   "execution_count": 5,
   "id": "d7aef819",
   "metadata": {},
   "outputs": [],
   "source": [
    "#Делает ход,изменяя поле-список\n",
    "def do_move(play_field, list_move, space_index):\n",
    "    num = play_field[list_move[0]][list_move[1]]\n",
    "    play_field[space_index[0]][space_index[1]] = num\n",
    "    \n",
    "    play_field[list_move[0]][list_move[1]] = ' '"
   ]
  },
  {
   "cell_type": "code",
   "execution_count": 6,
   "id": "7a61bd1a",
   "metadata": {},
   "outputs": [],
   "source": [
    "#ПРоверка на победу\n",
    "def check_win(field):\n",
    "    if field == win_combination:\n",
    "        return True"
   ]
  },
  {
   "cell_type": "code",
   "execution_count": 7,
   "id": "b4a74a83",
   "metadata": {},
   "outputs": [],
   "source": [
    "field = field()"
   ]
  },
  {
   "cell_type": "code",
   "execution_count": null,
   "id": "b8bcc4ed",
   "metadata": {
    "scrolled": true
   },
   "outputs": [
    {
     "name": "stdout",
     "output_type": "stream",
     "text": [
      "-------------\n",
      "|13|  |12|15|\n",
      "-------------\n",
      "|6 |11|14|4 |\n",
      "-------------\n",
      "|8 |3 |9 |5 |\n",
      "-------------\n",
      "|10|7 |1 |2 |\n",
      "-------------\n"
     ]
    }
   ],
   "source": [
    "while True:\n",
    "    \n",
    "    print_field(field)\n",
    "    \n",
    "    while True:\n",
    "        player_move = input('Введите число, которое хотите переставить: ')\n",
    "        if player_move.isdigit():\n",
    "            if 1 <= int(player_move) <= 15:\n",
    "                \n",
    "                list_move = move_to_list(field,int(player_move))\n",
    "                possible_moves, space_index = func_possible_moves(field)\n",
    "                \n",
    "                if validate_move(possible_moves, list_move):\n",
    "                    do_move(field, list_move, space_index)\n",
    "                    break\n",
    "                else:\n",
    "                    print('Это число переставить нельзя!')\n",
    "            else:\n",
    "                print('Такого числа нет!')\n",
    "        else:\n",
    "            print('Введите число!')\n",
    "    \n",
    "    if check_win(field):\n",
    "        print_field(field)\n",
    "        print('Победа!')\n",
    "        break"
   ]
  }
 ],
 "metadata": {
  "kernelspec": {
   "display_name": "Python 3 (ipykernel)",
   "language": "python",
   "name": "python3"
  },
  "language_info": {
   "codemirror_mode": {
    "name": "ipython",
    "version": 3
   },
   "file_extension": ".py",
   "mimetype": "text/x-python",
   "name": "python",
   "nbconvert_exporter": "python",
   "pygments_lexer": "ipython3",
   "version": "3.11.4"
  }
 },
 "nbformat": 4,
 "nbformat_minor": 5
}

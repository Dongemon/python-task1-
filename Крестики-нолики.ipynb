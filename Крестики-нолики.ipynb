{
 "cells": [
  {
   "cell_type": "code",
   "execution_count": 1,
   "id": "712308ef",
   "metadata": {},
   "outputs": [],
   "source": [
    "#Функция, которая записывает ход\n",
    "def step(cell, sign):\n",
    "    field[cell - 1] = sign"
   ]
  },
  {
   "cell_type": "code",
   "execution_count": 2,
   "id": "d8ca8c7c",
   "metadata": {},
   "outputs": [],
   "source": [
    "#Функция для вывода поля\n",
    "def print_field():\n",
    "    print()    \n",
    "    print('|', end ='')\n",
    "    print(field[0], end = '|')    \n",
    "    print(field[1], end = '|')\n",
    "    print(field[2], end = '|\\n')    \n",
    "    print('-------')\n",
    "    print('|', end ='')    \n",
    "    print(field[3], end = '|')\n",
    "    print(field[4], end = '|')    \n",
    "    print(field[5], end = '|\\n')\n",
    "    print('-------')    \n",
    "    print('|', end ='')\n",
    "    print(field[6], end = '|')    \n",
    "    print(field[7], end = '|')\n",
    "    print(field[8], end = '|\\n')\n",
    "    \n",
    "    \n",
    "def start_field():    \n",
    "    return [1, 2, 3, 4, 5, 6, 7, 8, 9]"
   ]
  },
  {
   "cell_type": "code",
   "execution_count": 3,
   "id": "515773a9",
   "metadata": {},
   "outputs": [],
   "source": [
    "field = [1, 2, 3, 4, 5, 6, 7, 8, 9]\n",
    "wins = [[0, 1, 2], \n",
    "        [3, 4, 5],        \n",
    "        [6, 7, 8], \n",
    "        [0, 4, 8],         \n",
    "        [6, 4, 2], \n",
    "        [0, 3, 6],         \n",
    "        [1, 4, 7], \n",
    "        [2, 5, 8]]"
   ]
  },
  {
   "cell_type": "code",
   "execution_count": 4,
   "id": "0876d9d8",
   "metadata": {},
   "outputs": [
    {
     "name": "stdout",
     "output_type": "stream",
     "text": [
      "Введите имя: a\n",
      "Введите имя: b\n",
      "a - X\n",
      "b - O\n"
     ]
    }
   ],
   "source": [
    "player1 = input('Введите имя: ') \n",
    "player2 = input('Введите имя: ')\n",
    "field = start_field()\n",
    "move = 1 \n",
    "winner = None\n",
    "print(f'{player1} - X\\n{player2} - O')"
   ]
  },
  {
   "cell_type": "code",
   "execution_count": 5,
   "id": "0a8662db",
   "metadata": {},
   "outputs": [],
   "source": [
    "#Функция для проверки попбедителя\n",
    "def check_result():\n",
    "    for i in wins:        \n",
    "        if (field[i[0]] == 'X' and field[i[1]] == 'X' and field[i[2]] == 'X') or \\\n",
    "        (field[i[0]] == 'O' and field[i[1]] == 'O' and field[i[2]] == 'O'):             \n",
    "            return True\n",
    "        \n"
   ]
  },
  {
   "cell_type": "code",
   "execution_count": null,
   "id": "7e821d1d",
   "metadata": {},
   "outputs": [
    {
     "name": "stdout",
     "output_type": "stream",
     "text": [
      "\n",
      "|1|2|3|\n",
      "-------\n",
      "|4|5|6|\n",
      "-------\n",
      "|7|8|9|\n",
      "a - ваш ход(введите номер клетки): 1\n",
      "\n",
      "|X|2|3|\n",
      "-------\n",
      "|4|5|6|\n",
      "-------\n",
      "|7|8|9|\n",
      "b - ваш ход(введите номер клетки)5\n",
      "\n",
      "|X|2|3|\n",
      "-------\n",
      "|4|O|6|\n",
      "-------\n",
      "|7|8|9|\n",
      "a - ваш ход(введите номер клетки): 9\n",
      "\n",
      "|X|2|3|\n",
      "-------\n",
      "|4|O|6|\n",
      "-------\n",
      "|7|8|X|\n",
      "b - ваш ход(введите номер клетки)7\n",
      "\n",
      "|X|2|3|\n",
      "-------\n",
      "|4|O|6|\n",
      "-------\n",
      "|O|8|X|\n"
     ]
    }
   ],
   "source": [
    "while True:   \n",
    "    print_field()\n",
    "    # Ход 1 игрока\n",
    "    while True:                 \n",
    "        try:\n",
    "            while True:                     \n",
    "                move_x = int(input(f'{player1} - ваш ход(введите номер клетки): '))\n",
    "                if move_x in field:                        \n",
    "                    break\n",
    "                else:                        \n",
    "                    print('В эту клетку пойти нельзя.')\n",
    "            break            \n",
    "        except:\n",
    "            print('Введите номер клетки!')\n",
    "\n",
    "    step(move_x, 'X')        \n",
    "\n",
    "    #Проверка на победу 1 игрока        \n",
    "    if check_result():\n",
    "        winner = player1            \n",
    "        break\n",
    "    move += 1        \n",
    "\n",
    "    #Проверка на ничью        \n",
    "    if move == 10:\n",
    "        break            \n",
    "    \n",
    "    print_field()        \n",
    "\n",
    "    #Ход 2 игрока        \n",
    "    while True:\n",
    "        try:                \n",
    "            while True:\n",
    "                move_y = int(input(f'{player2} - ваш ход(введите номер клетки)'))                    \n",
    "                if move_y in field:\n",
    "                    break                    \n",
    "                else:\n",
    "                    print('В эту клетку пойти нельзя.')                \n",
    "            break\n",
    "        except:                \n",
    "            print('Введите номер клетки!')\n",
    "    \n",
    "    step(move_y, 'O')\n",
    "    \n",
    "    #Проверка на победу 2 игрока\n",
    "    if check_result():\n",
    "        winner = player2            \n",
    "        break\n",
    "\n",
    "    move += 1           \n",
    "\n",
    "if winner:\n",
    "    print(f'Игра окончена!\\n{winner} - победил!') \n",
    "    break\n",
    "\n",
    "else:\n",
    "    print('Игра окончена! Ничья!')\n",
    "    break"
   ]
  },
  {
   "cell_type": "code",
   "execution_count": null,
   "id": "6fd1dc28",
   "metadata": {},
   "outputs": [],
   "source": []
  }
 ],
 "metadata": {
  "kernelspec": {
   "display_name": "Python 3 (ipykernel)",
   "language": "python",
   "name": "python3"
  },
  "language_info": {
   "codemirror_mode": {
    "name": "ipython",
    "version": 3
   },
   "file_extension": ".py",
   "mimetype": "text/x-python",
   "name": "python",
   "nbconvert_exporter": "python",
   "pygments_lexer": "ipython3",
   "version": "3.11.4"
  }
 },
 "nbformat": 4,
 "nbformat_minor": 5
}

{
 "cells": [
  {
   "cell_type": "code",
   "execution_count": 15,
   "id": "eab99da7",
   "metadata": {},
   "outputs": [],
   "source": [
    "l1 = ['1', '123', '123', '12', '1', '123']\n",
    "l2 = [2, 4, -2, -3, 0 , 11 , 3, -1]\n",
    "\n",
    "d4 = {1: 10, 2: 20, 3: 30, 4: 40, 5: 50, 6: 60}\n",
    "d5 = {'a': 3, 'b': 4, 'c': 5, 'd': 6, 'e': 7, 'f': 8, 'g': 9}\n",
    "d6 = {'e': 20, 'f': 21, 'g': 22, 'h': 23, 'i': 24, 'j': 25, 'k': 26, 'l': 27}\n"
   ]
  },
  {
   "cell_type": "code",
   "execution_count": 16,
   "id": "c94aded3",
   "metadata": {},
   "outputs": [
    {
     "name": "stdout",
     "output_type": "stream",
     "text": [
      "[1, 3, 3, 2, 1, 3]\n"
     ]
    }
   ],
   "source": [
    "# 4.13\n",
    "print([len(i_elem) for i_elem in l1])"
   ]
  },
  {
   "cell_type": "code",
   "execution_count": 17,
   "id": "f9a7f7dc",
   "metadata": {},
   "outputs": [
    {
     "name": "stdout",
     "output_type": "stream",
     "text": [
      "3\n"
     ]
    }
   ],
   "source": [
    "# 4.14\n",
    "print(len([i_elem for i_elem in l1 if len(i_elem) > 2]))"
   ]
  },
  {
   "cell_type": "code",
   "execution_count": 18,
   "id": "2f54b231",
   "metadata": {},
   "outputs": [
    {
     "name": "stdout",
     "output_type": "stream",
     "text": [
      "910\n"
     ]
    }
   ],
   "source": [
    "# 4.15\n",
    "print(sum([i_key * i_value for i_key, i_value in d4.items()]))"
   ]
  },
  {
   "cell_type": "code",
   "execution_count": 19,
   "id": "2ff1e12f",
   "metadata": {},
   "outputs": [
    {
     "name": "stdout",
     "output_type": "stream",
     "text": [
      "{'h': 23, 'i': 24, 'j': 25, 'k': 26, 'l': 27}\n"
     ]
    }
   ],
   "source": [
    "# 4.16\n",
    "d7 = {i_key: i_value for i_key, i_value in d6.items() if i_key not in d5}\n",
    "print(d7)"
   ]
  },
  {
   "cell_type": "code",
   "execution_count": 20,
   "id": "12d23479",
   "metadata": {
    "scrolled": true
   },
   "outputs": [
    {
     "name": "stdout",
     "output_type": "stream",
     "text": [
      "[0, 4, -4, -9, 0, 55, 18, -7]\n"
     ]
    }
   ],
   "source": [
    "# 4.17\n",
    "print([i_count * i_value for i_count, i_value in enumerate(l2)])"
   ]
  },
  {
   "cell_type": "code",
   "execution_count": 21,
   "id": "8c87eb3b",
   "metadata": {},
   "outputs": [
    {
     "name": "stdout",
     "output_type": "stream",
     "text": [
      "[2, 4, 0, 11, 3]\n"
     ]
    }
   ],
   "source": [
    "# 4.18\n",
    "print([i_value for i_value in l2 if i_value >= 0])"
   ]
  },
  {
   "cell_type": "code",
   "execution_count": 22,
   "id": "07b76331",
   "metadata": {},
   "outputs": [
    {
     "name": "stdout",
     "output_type": "stream",
     "text": [
      "[2, 4, 2, 3, 0, 11, 3, 7]\n"
     ]
    }
   ],
   "source": [
    "# 4.19\n",
    "print([i_value if i_value >= 0 else i_count for i_count, i_value in enumerate(l2)])"
   ]
  },
  {
   "cell_type": "code",
   "execution_count": 25,
   "id": "55b84671",
   "metadata": {},
   "outputs": [
    {
     "name": "stdout",
     "output_type": "stream",
     "text": [
      "555555555\n",
      "20\n",
      "22.0\n",
      "(4+4j)\n"
     ]
    }
   ],
   "source": [
    "# 5.1\n",
    "def mult(num1: int|float|str|complex, num2: int|float|complex) -> int|float|str|complex:\n",
    "    return num1 * num2\n",
    "\n",
    "print(mult('555',3))\n",
    "print(mult(5, 4))\n",
    "print(mult(5.5, 4))\n",
    "print(mult(1. + 1j, 4))"
   ]
  },
  {
   "cell_type": "code",
   "execution_count": 30,
   "id": "053b10f2",
   "metadata": {},
   "outputs": [
    {
     "name": "stdout",
     "output_type": "stream",
     "text": [
      "5\n",
      "25\n",
      "125\n"
     ]
    }
   ],
   "source": [
    "# 5.2\n",
    "def mult_3nums(num1, num2=1, num3=1):\n",
    "    return num1 * num2 * num3"
   ]
  },
  {
   "cell_type": "code",
   "execution_count": 35,
   "id": "dfdb45ef",
   "metadata": {},
   "outputs": [
    {
     "name": "stdout",
     "output_type": "stream",
     "text": [
      "750\n",
      "3\n",
      "3850\n",
      "750\n",
      "3000\n"
     ]
    }
   ],
   "source": [
    "# 5.3\n",
    "print(mult_3nums(15, 10, 5))\n",
    "print(mult_3nums(3, 1))\n",
    "print(mult_3nums(2, 35, 55))\n",
    "print(mult_3nums(5, 10, 15))\n",
    "print(mult_3nums(10, 15, 20))"
   ]
  },
  {
   "cell_type": "code",
   "execution_count": 37,
   "id": "ac2c890c",
   "metadata": {},
   "outputs": [
    {
     "name": "stdout",
     "output_type": "stream",
     "text": [
      "750\n",
      "3\n",
      "3850\n",
      "15000\n"
     ]
    }
   ],
   "source": [
    "# 5.4\n",
    "def mult_nums(*args):\n",
    "    result = 1\n",
    "    for i in args:\n",
    "        result *= i\n",
    "    return result\n",
    "print(mult_nums(15, 10, 5))\n",
    "print(mult_nums(3, 1))\n",
    "print(mult_nums(2, 35, 55))\n",
    "print(mult_nums(5, 10, 15, 20))"
   ]
  },
  {
   "cell_type": "code",
   "execution_count": 42,
   "id": "092e3fe4",
   "metadata": {},
   "outputs": [
    {
     "name": "stdout",
     "output_type": "stream",
     "text": [
      "15\n"
     ]
    }
   ],
   "source": [
    "# 5.5\n",
    "def operate(sign: str, num1 = 5, num2 = 10) -> int:\n",
    "    return eval(str(num1) + ' ' + sign + ' ' + str(num2))\n",
    "print(operate('+'))"
   ]
  },
  {
   "cell_type": "code",
   "execution_count": 43,
   "id": "c84a29b5",
   "metadata": {},
   "outputs": [
    {
     "name": "stdout",
     "output_type": "stream",
     "text": [
      "8\n"
     ]
    }
   ],
   "source": [
    "# 5.6\n",
    "def calc_2nums(ask: str) -> int:\n",
    "    print(eval(ask))\n",
    "calc_2nums('13 - 5') \n"
   ]
  },
  {
   "cell_type": "code",
   "execution_count": 46,
   "id": "0af35902",
   "metadata": {},
   "outputs": [
    {
     "name": "stdout",
     "output_type": "stream",
     "text": [
      "Автомобиль марки: Не указано, модели: Не указано, цвета: Не указано, 2023 года выпуска, с пробегом: Не указано км, c номерным знаком: Не указано, цена: Не указано руб.\n"
     ]
    }
   ],
   "source": [
    "# 5.7\n",
    "def print_info(brand: str = 'Не указано', \n",
    "               model: str = 'Не указано', \n",
    "               colour: str = 'Не указано',\n",
    "               year: str = 'Не указано',\n",
    "               mileage: str = 'Не указано', \n",
    "               num_sign: str = 'Не указано',\n",
    "               price: str = 'Не указано'):\n",
    "    print(f'Автомобиль марки: {brand}, модели: {model}, цвета: {colour}, {year} года выпуска, с пробегом: {mileage} км, c номерным знаком: {num_sign}, цена: {price} руб.')\n",
    "\n",
    "print_info(year = '2023') "
   ]
  },
  {
   "cell_type": "code",
   "execution_count": 58,
   "id": "531e5e3f",
   "metadata": {},
   "outputs": [
    {
     "name": "stdout",
     "output_type": "stream",
     "text": [
      "двенадцать\n"
     ]
    }
   ],
   "source": [
    "# 5.8\n",
    "numbers_dict = {\n",
    "                    0: 'ноль',\n",
    "                    1: 'один',\n",
    "                    2: 'два',\n",
    "                    3: 'три',\n",
    "                    4: 'четыре',\n",
    "                    5: 'пять',\n",
    "                    6: 'шесть',\n",
    "                    7: 'семь',\n",
    "                    8: 'восемь',\n",
    "                    9: 'девять',\n",
    "                    10: 'десять',\n",
    "                    11: 'одиннадцать',\n",
    "                    12: 'двенадцать',\n",
    "                    13: 'тринадцать',\n",
    "                    14: 'четырнадцать',\n",
    "                    15: 'пятнадцать',\n",
    "                    16: 'шестнадцать',\n",
    "                    17: 'семнадцать',\n",
    "                    18: 'восемнадцать',\n",
    "                    19: 'девятнадцать',\n",
    "\n",
    "                    20: 'двадцать',\n",
    "                    30: 'тридцать',\n",
    "                    40: 'сорок',\n",
    "                    50: 'пятьдесят',\n",
    "                    60: 'шестьдесят',\n",
    "                    70: 'семьдесят',\n",
    "                    80: 'восемьдесят',\n",
    "                    90: 'девяносто',\n",
    "                    }\n",
    "def int_to_str(num: int) -> str:\n",
    "    if num in numbers_dict:\n",
    "        return numbers_dict[num]\n",
    "    str_num = ''\n",
    "    i = 1\n",
    "    while num > 0:\n",
    "        str_num = numbers_dict[num % (10 ** i)] + ' ' + str_num\n",
    "        num -= num % (10 ** i)\n",
    "        i += 1\n",
    "    return str_num\n",
    "\n",
    "print(int_to_str(12))"
   ]
  },
  {
   "cell_type": "code",
   "execution_count": 59,
   "id": "1164676a",
   "metadata": {},
   "outputs": [
    {
     "name": "stdout",
     "output_type": "stream",
     "text": [
      "533\n"
     ]
    }
   ],
   "source": [
    "# 5.8\n",
    "numbers_dict = {\n",
    "                    'один':          1,\n",
    "                    'два':           2,\n",
    "                    'три':           3,\n",
    "                    'четыре':        4,\n",
    "                    'пять':          5,\n",
    "                    'шесть':         6,\n",
    "                    'семь':          7,\n",
    "                    'восемь':        8,\n",
    "                    'девять':        9,\n",
    "                    'десять':        10,\n",
    "                    'одиннадцать':   11,\n",
    "                    'двенадцать':    12,\n",
    "                    'тринадцать':    13,\n",
    "                    'четырнадцать':  14,\n",
    "                    'пятнадцать':    15,\n",
    "                    'шестнадцать':   16,\n",
    "                    'семнадцать':    17,\n",
    "                    'восемнадцать':  18,\n",
    "                    'девятнадцать':  19,\n",
    "                    'двадцать':      20,\n",
    "                    'тридцать':      30,\n",
    "                    'сорок':         40,\n",
    "                    'пятьдесят':     50,\n",
    "                    'шестьдесят':    60,\n",
    "                    'семьдесят':     70,\n",
    "                    'восемьдесят':   80,\n",
    "                    'девяносто':     90,\n",
    "                    'сто': 100,\n",
    "                    'двести': 200,\n",
    "                    'триста': 300,\n",
    "                    'четыреста': 400,\n",
    "                    'пятьсот': 500,\n",
    "                    'шестьсот': 600,\n",
    "                    'семьсот': 700,\n",
    "                    'восемьсот': 800,\n",
    "                    'девятьсот': 900,\n",
    "                    }\n",
    "def str_to_int(num: str) -> int:\n",
    "    int_num = 0\n",
    "    for i in num.split():\n",
    "        int_num += numbers_dict[i]\n",
    "    return int_num\n",
    "\n",
    "print(str_to_int('пятьсот тридцать три'))\n",
    "\n"
   ]
  },
  {
   "cell_type": "code",
   "execution_count": null,
   "id": "a310ea36",
   "metadata": {},
   "outputs": [],
   "source": []
  }
 ],
 "metadata": {
  "kernelspec": {
   "display_name": "Python 3 (ipykernel)",
   "language": "python",
   "name": "python3"
  },
  "language_info": {
   "codemirror_mode": {
    "name": "ipython",
    "version": 3
   },
   "file_extension": ".py",
   "mimetype": "text/x-python",
   "name": "python",
   "nbconvert_exporter": "python",
   "pygments_lexer": "ipython3",
   "version": "3.11.4"
  }
 },
 "nbformat": 4,
 "nbformat_minor": 5
}

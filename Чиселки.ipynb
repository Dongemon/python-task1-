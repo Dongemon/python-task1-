{
 "cells": [
  {
   "cell_type": "code",
   "execution_count": 1,
   "id": "b3298a39",
   "metadata": {},
   "outputs": [],
   "source": [
    "import math\n",
    "\n",
    "field = [[str(i) for i in range(1, 10)],\n",
    "        ['1', '1', '1', '2', '1', '3', '1', '4', '1'],\n",
    "        ['5', '1', '6', '1', '7', '1', '8', '1', '9']]\n"
   ]
  },
  {
   "cell_type": "code",
   "execution_count": 2,
   "id": "d1424e5e",
   "metadata": {},
   "outputs": [],
   "source": [
    "#Функиця проверяет наличие ходов\n",
    "def check_moves(field):\n",
    "    flag = False\n",
    "    for i_count, i_str in enumerate(field):\n",
    "        for j_count, j_elem in enumerate(i_str):\n",
    "            if j_elem != '#':\n",
    "                for i in range(i_count + 1, len(field)):\n",
    "                    try:\n",
    "                    \n",
    "                        if field[i][j_count] == '#':\n",
    "                            pass\n",
    "                        elif (int(field[i][j_count]) +int(j_elem) == 10 or int(field[i][j_count]) == int(j_elem)):\n",
    "                            flag = True\n",
    "                            break\n",
    "                        else:\n",
    "                            break\n",
    "                            \n",
    "                    except:\n",
    "                        pass\n",
    "                for j in range(j_count + 1, len(field[i_count])):\n",
    "                    try:\n",
    "                        \n",
    "                        if field[i_count][j] == '#':\n",
    "                            pass\n",
    "                        elif (int(field[i_count][j]) + int(j_elem) == 10 or int(field[i_count][j]) == int(j_elem)):\n",
    "                            flag = True\n",
    "                            break\n",
    "                        else:\n",
    "                            break\n",
    "                            \n",
    "                    except:\n",
    "                        pass\n",
    "    return flag\n",
    "\n"
   ]
  },
  {
   "cell_type": "code",
   "execution_count": 3,
   "id": "c61f4587",
   "metadata": {
    "scrolled": true
   },
   "outputs": [],
   "source": [
    "#Функция печатает поле\n",
    "def print_field(field):\n",
    "    print('       | a | b | c | d | e | f | g | h | i |')\n",
    "    for i_count, i_str in enumerate(field, start=1):\n",
    "        print( '--------------------------------------------')\n",
    "        print(f' {i_count} |   |', ' | '.join(i_str))"
   ]
  },
  {
   "cell_type": "code",
   "execution_count": 4,
   "id": "9fc24974",
   "metadata": {},
   "outputs": [],
   "source": [
    "#Функция, которая при отсутствии ходов вписывет в конце цифры\n",
    "def no_moves(field):\n",
    "    numbers = []\n",
    "    for i in field:\n",
    "        for j in i:\n",
    "            if j != '#':\n",
    "                numbers.append(j)\n",
    "    \n",
    "    numbers = field.pop() + numbers\n",
    "    for i in range(math.ceil(len(numbers) / 9)):\n",
    "        field.append(numbers[i * 9:(i + 1) * 9])"
   ]
  },
  {
   "cell_type": "code",
   "execution_count": 5,
   "id": "553d7c0b",
   "metadata": {},
   "outputs": [],
   "source": [
    "#Изменяет массив-поле, фискируя ход\n",
    "def do_move(field, move):\n",
    "    field[move[0][0]][move[0][1]] = '#'\n",
    "    field[move[1][0]][move[1][1]] = '#'\n",
    "\n",
    "def check_win(field):\n",
    "    for i in field:\n",
    "        for j in i:\n",
    "            if j != '#':\n",
    "                return False\n",
    "    return True\n",
    "\n",
    "#Функция проверяет, есть ли ходы для выбранной игроком клетки\n",
    "def check_for_player(field, move, possible_moves):\n",
    "        \n",
    "    for i in range(move[0][0] - 1, -1, -1): \n",
    "        try:\n",
    "            if field[move[0][0]][move[0][1]] == field[i][move[0][1]] or\\\n",
    "               int(field[move[0][0]][move[0][1]]) + int(field[i][move[0][1]]) == 10:\n",
    "                possible_moves.append([i, move[0][1]])\n",
    "            elif field[i][move[0][1]] != '#':\n",
    "                break\n",
    "        except:\n",
    "            pass\n",
    "\n",
    "    for i in range(move[0][0] + 1, len(field)): \n",
    "        try:\n",
    "            if field[move[0][0]][move[0][1]] == field[i][move[0][1]] or\\\n",
    "               int(field[move[0][0]][move[0][1]]) + int(field[i][move[0][1]]) == 10:\n",
    "                possible_moves.append([i, move[0][1]])\n",
    "            elif field[i][move[0][1]] != '#':\n",
    "                break\n",
    "        except:\n",
    "            pass \n",
    "\n",
    "    for j in range(move[0][1] - 1, -1, - 1):\n",
    "\n",
    "        try:\n",
    "            if field[move[0][0]][move[0][1]] == field[move[0][0]][j] or\\\n",
    "            int(field[move[0][0]][move[0][1]]) + int(field[move[0][0]][j]) == 10:\n",
    "                possible_moves.append([move[0][0], j])\n",
    "            elif field[i][move[0][1]] != '#':\n",
    "                break\n",
    "        except:\n",
    "            break\n",
    "\n",
    "    for j in range(move[0][1] + 1, len(field[move[0][0]])):\n",
    "\n",
    "        try:\n",
    "            if field[move[0][0]][move[0][1]] == field[move[0][0]][j] or\\\n",
    "            int(field[move[0][0]][move[0][1]]) + int(field[move[0][0]][j]) == 10:\n",
    "                possible_moves.append([move[0][0], j])\n",
    "            elif field[i][move[0][1]] != '#':\n",
    "                break\n",
    "        except:\n",
    "            pass\n",
    "    return possible_moves\n"
   ]
  },
  {
   "cell_type": "code",
   "execution_count": 6,
   "id": "35138251",
   "metadata": {},
   "outputs": [],
   "source": [
    "letters = ['a', 'b', 'c', 'd', 'e', 'f', 'g', 'h', 'i']\n",
    "possible_moves = []"
   ]
  },
  {
   "cell_type": "code",
   "execution_count": null,
   "id": "db1f342a",
   "metadata": {
    "scrolled": false
   },
   "outputs": [
    {
     "name": "stdout",
     "output_type": "stream",
     "text": [
      "       | a | b | c | d | e | f | g | h | i |\n",
      "--------------------------------------------\n",
      " 1 |   | 1 | 2 | 3 | 4 | 5 | 6 | 7 | 8 | 9\n",
      "--------------------------------------------\n",
      " 2 |   | 1 | 1 | 1 | 2 | 1 | 3 | 1 | 4 | 1\n",
      "--------------------------------------------\n",
      " 3 |   | 5 | 1 | 6 | 1 | 7 | 1 | 8 | 1 | 9\n"
     ]
    }
   ],
   "source": [
    "while True:\n",
    "    print_field(field)\n",
    "    \n",
    "    while True:\n",
    "        player_move1 = input('Введите первую клетку: ')\n",
    "        move = []\n",
    "        if len(player_move1) == 2 and player_move1[1].isdigit() and\\\n",
    "        int(player_move1[1]) in range(1, len(field) + 1) and player_move1[0] in letters:\n",
    "            \n",
    "            move.append([int(player_move1[1]) - 1, letters.index(player_move1[0])])\n",
    "            \n",
    "            if len(check_for_player(field, move, possible_moves)) != 0:\n",
    "\n",
    "                player_move2 = input('Введите вторую клетку: ')\n",
    "                if player_move2[1].isdigit and int(player_move2[1]) in range(1, len(field) + 1) and player_move2[0] in letters:\n",
    "                    move.append([int(player_move2[1]) - 1, letters.index(player_move2[0])])\n",
    "                    if move[1] in possible_moves:\n",
    "                        break\n",
    "                    else:\n",
    "                        print('Клетки должны быть равны или в сумме должны давать 10 и находиться по вертикали или горизонтали.')\n",
    "        else:\n",
    "            print('Для данной клетки нет ходов.')\n",
    "\n",
    "\n",
    "            \n",
    "    do_move(field, move)\n",
    "    if check_win(field):\n",
    "        print('Игра окончена!')\n",
    "    if not check_moves(field):\n",
    "        no_moves(field)"
   ]
  },
  {
   "cell_type": "code",
   "execution_count": null,
   "id": "758ed46f",
   "metadata": {
    "scrolled": true
   },
   "outputs": [],
   "source": [
    "for i in range(10, -1, -1):\n",
    "    print(i)"
   ]
  },
  {
   "cell_type": "code",
   "execution_count": null,
   "id": "e19f0446",
   "metadata": {},
   "outputs": [],
   "source": [
    "a = [1, 2]\n",
    "print(a[-1])"
   ]
  },
  {
   "cell_type": "code",
   "execution_count": null,
   "id": "e552f187",
   "metadata": {},
   "outputs": [],
   "source": []
  },
  {
   "cell_type": "code",
   "execution_count": null,
   "id": "f752ecb2",
   "metadata": {},
   "outputs": [],
   "source": []
  }
 ],
 "metadata": {
  "kernelspec": {
   "display_name": "Python 3 (ipykernel)",
   "language": "python",
   "name": "python3"
  },
  "language_info": {
   "codemirror_mode": {
    "name": "ipython",
    "version": 3
   },
   "file_extension": ".py",
   "mimetype": "text/x-python",
   "name": "python",
   "nbconvert_exporter": "python",
   "pygments_lexer": "ipython3",
   "version": "3.11.4"
  }
 },
 "nbformat": 4,
 "nbformat_minor": 5
}
